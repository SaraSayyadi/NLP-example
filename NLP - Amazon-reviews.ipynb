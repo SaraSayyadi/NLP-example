{
 "cells": [
  {
   "cell_type": "markdown",
   "id": "cff8f144",
   "metadata": {},
   "source": [
    "#  Assignment 1\n",
    "## AML-2304 - Natural Language Processing \n",
    "\n",
    "- Abhijit Morye \t- ID C0825094\n",
    "- Bruno Milhomem \t- ID C0796309\n",
    "- Sara Sayyadi \t    - ID C0810229\n",
    "- Tashi Paljor \t    - ID C0825364"
   ]
  },
  {
   "cell_type": "markdown",
   "id": "0a8f4dea",
   "metadata": {},
   "source": [
    "### Amazon Customer Reviews Dataset"
   ]
  },
  {
   "cell_type": "code",
   "execution_count": 1,
   "id": "69b4ec1a",
   "metadata": {},
   "outputs": [],
   "source": [
    "# Importing the libraries\n",
    "import numpy as np\n",
    "import pandas as pd\n",
    "import seaborn as sns\n",
    "import nltk\n",
    "import os"
   ]
  },
  {
   "cell_type": "code",
   "execution_count": 2,
   "id": "ae443854",
   "metadata": {},
   "outputs": [
    {
     "name": "stderr",
     "output_type": "stream",
     "text": [
      "/Users/farhadzare/opt/anaconda3/lib/python3.9/site-packages/IPython/core/interactiveshell.py:3444: DtypeWarning: Columns (1,2) have mixed types.Specify dtype option on import or set low_memory=False.\n",
      "  exec(code_obj, self.user_global_ns, self.user_ns)\n"
     ]
    },
    {
     "data": {
      "text/html": [
       "<div>\n",
       "<style scoped>\n",
       "    .dataframe tbody tr th:only-of-type {\n",
       "        vertical-align: middle;\n",
       "    }\n",
       "\n",
       "    .dataframe tbody tr th {\n",
       "        vertical-align: top;\n",
       "    }\n",
       "\n",
       "    .dataframe thead th {\n",
       "        text-align: right;\n",
       "    }\n",
       "</style>\n",
       "<table border=\"1\" class=\"dataframe\">\n",
       "  <thead>\n",
       "    <tr style=\"text-align: right;\">\n",
       "      <th></th>\n",
       "      <th>Helpful Votes (bin)</th>\n",
       "      <th>Number of Records</th>\n",
       "      <th>Star Rating (bin)</th>\n",
       "      <th>Customer Id</th>\n",
       "      <th>Helpful Votes</th>\n",
       "      <th>Overall Votes</th>\n",
       "      <th>Product Id</th>\n",
       "      <th>Review Body</th>\n",
       "      <th>Review Year</th>\n",
       "      <th>Review Headline</th>\n",
       "      <th>Star Rating</th>\n",
       "    </tr>\n",
       "  </thead>\n",
       "  <tbody>\n",
       "    <tr>\n",
       "      <th>0</th>\n",
       "      <td>0</td>\n",
       "      <td>1</td>\n",
       "      <td>0.0</td>\n",
       "      <td>NaN</td>\n",
       "      <td>4.0</td>\n",
       "      <td>14.0</td>\n",
       "      <td>26009102</td>\n",
       "      <td>You will love this book.  It is a hard long re...</td>\n",
       "      <td>03/17/2005 0:00</td>\n",
       "      <td>Best Book Ever</td>\n",
       "      <td>5.0</td>\n",
       "    </tr>\n",
       "    <tr>\n",
       "      <th>1</th>\n",
       "      <td>NaN</td>\n",
       "      <td>1</td>\n",
       "      <td>NaN</td>\n",
       "      <td>NaN</td>\n",
       "      <td>NaN</td>\n",
       "      <td>NaN</td>\n",
       "      <td>7491727</td>\n",
       "      <td>This is the UK edition of Dr. Omit's book. Dr....</td>\n",
       "      <td>NaN</td>\n",
       "      <td>researchers from John Hopkins School of Medici...</td>\n",
       "      <td>NaN</td>\n",
       "    </tr>\n",
       "    <tr>\n",
       "      <th>2</th>\n",
       "      <td>0</td>\n",
       "      <td>1</td>\n",
       "      <td>0.0</td>\n",
       "      <td>NaN</td>\n",
       "      <td>2.0</td>\n",
       "      <td>2.0</td>\n",
       "      <td>002782683X</td>\n",
       "      <td>This is a fun and entertaining book about lear...</td>\n",
       "      <td>06/25/2012 0:00</td>\n",
       "      <td>Michelle</td>\n",
       "      <td>5.0</td>\n",
       "    </tr>\n",
       "    <tr>\n",
       "      <th>3</th>\n",
       "      <td>0</td>\n",
       "      <td>1</td>\n",
       "      <td>0.0</td>\n",
       "      <td>NaN</td>\n",
       "      <td>0.0</td>\n",
       "      <td>0.0</td>\n",
       "      <td>60187271</td>\n",
       "      <td>Started a big slow, but once into it the autho...</td>\n",
       "      <td>06/09/2013 0:00</td>\n",
       "      <td>Loved the book</td>\n",
       "      <td>5.0</td>\n",
       "    </tr>\n",
       "    <tr>\n",
       "      <th>4</th>\n",
       "      <td>0</td>\n",
       "      <td>1</td>\n",
       "      <td>0.0</td>\n",
       "      <td>NaN</td>\n",
       "      <td>14.0</td>\n",
       "      <td>20.0</td>\n",
       "      <td>60392452</td>\n",
       "      <td>Received this book as a Christmas present. I h...</td>\n",
       "      <td>08/05/2003 0:00</td>\n",
       "      <td>Challenges your assumptions</td>\n",
       "      <td>4.0</td>\n",
       "    </tr>\n",
       "  </tbody>\n",
       "</table>\n",
       "</div>"
      ],
      "text/plain": [
       "  Helpful Votes (bin) Number of Records Star Rating (bin)  Customer Id  \\\n",
       "0                   0                 1               0.0          NaN   \n",
       "1                 NaN                 1               NaN          NaN   \n",
       "2                   0                 1               0.0          NaN   \n",
       "3                   0                 1               0.0          NaN   \n",
       "4                   0                 1               0.0          NaN   \n",
       "\n",
       "   Helpful Votes  Overall Votes  Product Id  \\\n",
       "0            4.0           14.0    26009102   \n",
       "1            NaN            NaN     7491727   \n",
       "2            2.0            2.0  002782683X   \n",
       "3            0.0            0.0    60187271   \n",
       "4           14.0           20.0    60392452   \n",
       "\n",
       "                                         Review Body      Review Year  \\\n",
       "0  You will love this book.  It is a hard long re...  03/17/2005 0:00   \n",
       "1  This is the UK edition of Dr. Omit's book. Dr....              NaN   \n",
       "2  This is a fun and entertaining book about lear...  06/25/2012 0:00   \n",
       "3  Started a big slow, but once into it the autho...  06/09/2013 0:00   \n",
       "4  Received this book as a Christmas present. I h...  08/05/2003 0:00   \n",
       "\n",
       "                                     Review Headline  Star Rating  \n",
       "0                                     Best Book Ever          5.0  \n",
       "1  researchers from John Hopkins School of Medici...          NaN  \n",
       "2                                           Michelle          5.0  \n",
       "3                                     Loved the book          5.0  \n",
       "4                        Challenges your assumptions          4.0  "
      ]
     },
     "execution_count": 2,
     "metadata": {},
     "output_type": "execute_result"
    }
   ],
   "source": [
    "# Loading the dataset\n",
    "file = 'https://raw.githubusercontent.com/joshivaibhav/AmazonCustomerReview/master/amazondata.csv'\n",
    "\n",
    "df = pd.read_csv(file)\n",
    "df.head()"
   ]
  },
  {
   "cell_type": "code",
   "execution_count": 3,
   "id": "4771fb27",
   "metadata": {},
   "outputs": [
    {
     "name": "stdout",
     "output_type": "stream",
     "text": [
      "<class 'pandas.core.frame.DataFrame'>\n",
      "RangeIndex: 128845 entries, 0 to 128844\n",
      "Data columns (total 11 columns):\n",
      " #   Column               Non-Null Count   Dtype  \n",
      "---  ------               --------------   -----  \n",
      " 0   Helpful Votes (bin)  114947 non-null  object \n",
      " 1   Number of Records    128843 non-null  object \n",
      " 2   Star Rating (bin)    116311 non-null  object \n",
      " 3   Customer Id          59980 non-null   float64\n",
      " 4   Helpful Votes        114943 non-null  float64\n",
      " 5   Overall Votes        116121 non-null  float64\n",
      " 6   Product Id           128840 non-null  object \n",
      " 7   Review Body          128834 non-null  object \n",
      " 8   Review Year          114933 non-null  object \n",
      " 9   Review Headline      128831 non-null  object \n",
      " 10  Star Rating          116305 non-null  float64\n",
      "dtypes: float64(4), object(7)\n",
      "memory usage: 10.8+ MB\n"
     ]
    }
   ],
   "source": [
    "df.info()"
   ]
  },
  {
   "cell_type": "code",
   "execution_count": 4,
   "id": "f00432d3",
   "metadata": {},
   "outputs": [
    {
     "data": {
      "text/html": [
       "<div>\n",
       "<style scoped>\n",
       "    .dataframe tbody tr th:only-of-type {\n",
       "        vertical-align: middle;\n",
       "    }\n",
       "\n",
       "    .dataframe tbody tr th {\n",
       "        vertical-align: top;\n",
       "    }\n",
       "\n",
       "    .dataframe thead th {\n",
       "        text-align: right;\n",
       "    }\n",
       "</style>\n",
       "<table border=\"1\" class=\"dataframe\">\n",
       "  <thead>\n",
       "    <tr style=\"text-align: right;\">\n",
       "      <th></th>\n",
       "      <th>Customer Id</th>\n",
       "      <th>Helpful Votes</th>\n",
       "      <th>Overall Votes</th>\n",
       "      <th>Star Rating</th>\n",
       "    </tr>\n",
       "  </thead>\n",
       "  <tbody>\n",
       "    <tr>\n",
       "      <th>count</th>\n",
       "      <td>5.998000e+04</td>\n",
       "      <td>114943.000000</td>\n",
       "      <td>116121.000000</td>\n",
       "      <td>116305.000000</td>\n",
       "    </tr>\n",
       "    <tr>\n",
       "      <th>mean</th>\n",
       "      <td>2.690718e+07</td>\n",
       "      <td>2.326936</td>\n",
       "      <td>3.374609</td>\n",
       "      <td>4.381351</td>\n",
       "    </tr>\n",
       "    <tr>\n",
       "      <th>std</th>\n",
       "      <td>1.632404e+07</td>\n",
       "      <td>18.244605</td>\n",
       "      <td>19.392622</td>\n",
       "      <td>6.252964</td>\n",
       "    </tr>\n",
       "    <tr>\n",
       "      <th>min</th>\n",
       "      <td>5.000000e+00</td>\n",
       "      <td>0.000000</td>\n",
       "      <td>0.000000</td>\n",
       "      <td>0.000000</td>\n",
       "    </tr>\n",
       "    <tr>\n",
       "      <th>25%</th>\n",
       "      <td>1.340297e+07</td>\n",
       "      <td>0.000000</td>\n",
       "      <td>0.000000</td>\n",
       "      <td>4.000000</td>\n",
       "    </tr>\n",
       "    <tr>\n",
       "      <th>50%</th>\n",
       "      <td>2.541390e+07</td>\n",
       "      <td>0.000000</td>\n",
       "      <td>0.000000</td>\n",
       "      <td>5.000000</td>\n",
       "    </tr>\n",
       "    <tr>\n",
       "      <th>75%</th>\n",
       "      <td>4.227803e+07</td>\n",
       "      <td>1.000000</td>\n",
       "      <td>2.000000</td>\n",
       "      <td>5.000000</td>\n",
       "    </tr>\n",
       "    <tr>\n",
       "      <th>max</th>\n",
       "      <td>5.309540e+07</td>\n",
       "      <td>1996.000000</td>\n",
       "      <td>2008.000000</td>\n",
       "      <td>2008.000000</td>\n",
       "    </tr>\n",
       "  </tbody>\n",
       "</table>\n",
       "</div>"
      ],
      "text/plain": [
       "        Customer Id  Helpful Votes  Overall Votes    Star Rating\n",
       "count  5.998000e+04  114943.000000  116121.000000  116305.000000\n",
       "mean   2.690718e+07       2.326936       3.374609       4.381351\n",
       "std    1.632404e+07      18.244605      19.392622       6.252964\n",
       "min    5.000000e+00       0.000000       0.000000       0.000000\n",
       "25%    1.340297e+07       0.000000       0.000000       4.000000\n",
       "50%    2.541390e+07       0.000000       0.000000       5.000000\n",
       "75%    4.227803e+07       1.000000       2.000000       5.000000\n",
       "max    5.309540e+07    1996.000000    2008.000000    2008.000000"
      ]
     },
     "execution_count": 4,
     "metadata": {},
     "output_type": "execute_result"
    }
   ],
   "source": [
    "df.describe()"
   ]
  },
  {
   "cell_type": "code",
   "execution_count": 4,
   "id": "61484506",
   "metadata": {},
   "outputs": [
    {
     "name": "stdout",
     "output_type": "stream",
     "text": [
      "(128845, 11)\n",
      "----------------------------------------\n",
      "Helpful Votes (bin)     object\n",
      "Number of Records       object\n",
      "Star Rating (bin)       object\n",
      "Customer Id            float64\n",
      "Helpful Votes          float64\n",
      "Overall Votes          float64\n",
      "Product Id              object\n",
      "Review Body             object\n",
      "Review Year             object\n",
      "Review Headline         object\n",
      "Star Rating            float64\n",
      "dtype: object\n"
     ]
    }
   ],
   "source": [
    "# shape and data types of the data\n",
    "print(df.shape)\n",
    "\n",
    "print('----'*10)\n",
    "\n",
    "print(df.dtypes)"
   ]
  },
  {
   "cell_type": "code",
   "execution_count": 10,
   "id": "04a1a34f",
   "metadata": {},
   "outputs": [
    {
     "name": "stdout",
     "output_type": "stream",
     "text": [
      "128845\n"
     ]
    }
   ],
   "source": [
    "# Total reviews\n",
    "print(len(df['Customer Id']))"
   ]
  },
  {
   "cell_type": "code",
   "execution_count": 5,
   "id": "a490a2eb",
   "metadata": {},
   "outputs": [
    {
     "name": "stdout",
     "output_type": "stream",
     "text": [
      "['Customer Id' 'Helpful Votes' 'Overall Votes' 'Star Rating']\n"
     ]
    }
   ],
   "source": [
    "# select numeric columns\n",
    "df_numeric = df.select_dtypes(include=[np.number])\n",
    "\n",
    "numeric_cols = df_numeric.columns.values\n",
    "\n",
    "print(numeric_cols)"
   ]
  },
  {
   "cell_type": "code",
   "execution_count": 6,
   "id": "5b393c3a",
   "metadata": {},
   "outputs": [
    {
     "name": "stdout",
     "output_type": "stream",
     "text": [
      "['Helpful Votes (bin)' 'Number of Records' 'Star Rating (bin)'\n",
      " 'Product Id' 'Review Body' 'Review Year' 'Review Headline']\n"
     ]
    }
   ],
   "source": [
    "# select non numeric columns\n",
    "df_non_numeric = df.select_dtypes(exclude=[np.number])\n",
    "\n",
    "non_numeric_cols = df_non_numeric.columns.values\n",
    "\n",
    "print(non_numeric_cols)"
   ]
  },
  {
   "cell_type": "code",
   "execution_count": 7,
   "id": "9dcd87d1",
   "metadata": {},
   "outputs": [
    {
     "name": "stdout",
     "output_type": "stream",
     "text": [
      "created missing indicator for: Helpful Votes (bin)\n",
      "created missing indicator for: Number of Records\n",
      "created missing indicator for: Star Rating (bin)\n",
      "created missing indicator for: Customer Id\n",
      "created missing indicator for: Helpful Votes\n",
      "created missing indicator for: Overall Votes\n",
      "created missing indicator for: Product Id\n",
      "created missing indicator for: Review Body\n",
      "created missing indicator for: Review Year\n",
      "created missing indicator for: Review Headline\n",
      "created missing indicator for: Star Rating\n"
     ]
    }
   ],
   "source": [
    "# create missing indicator for features with missing data\n",
    "for col in df.columns:\n",
    "    missing = df[col].isnull()\n",
    "    num_missing = np.sum(missing)\n",
    "    \n",
    "    if num_missing > 0:  \n",
    "        print('created missing indicator for: {}'.format(col))\n",
    "        df['{}_ismissing'.format(col)] = missing"
   ]
  },
  {
   "cell_type": "code",
   "execution_count": 9,
   "id": "d6035eeb",
   "metadata": {},
   "outputs": [
    {
     "data": {
      "text/plain": [
       "Helpful Votes (bin)              0.107866\n",
       "Number of Records                0.000016\n",
       "Star Rating (bin)                0.097280\n",
       "Customer Id                      0.534479\n",
       "Helpful Votes                    0.107897\n",
       "Overall Votes                    0.098754\n",
       "Product Id                       0.000039\n",
       "Review Body                      0.000085\n",
       "Review Year                      0.107975\n",
       "Review Headline                  0.000109\n",
       "Star Rating                      0.097326\n",
       "Helpful Votes (bin)_ismissing    0.000000\n",
       "Number of Records_ismissing      0.000000\n",
       "Star Rating (bin)_ismissing      0.000000\n",
       "Customer Id_ismissing            0.000000\n",
       "Helpful Votes_ismissing          0.000000\n",
       "Overall Votes_ismissing          0.000000\n",
       "Product Id_ismissing             0.000000\n",
       "Review Body_ismissing            0.000000\n",
       "Review Year_ismissing            0.000000\n",
       "Review Headline_ismissing        0.000000\n",
       "Star Rating_ismissing            0.000000\n",
       "dtype: float64"
      ]
     },
     "execution_count": 9,
     "metadata": {},
     "output_type": "execute_result"
    }
   ],
   "source": [
    "# Checking amount of null values\n",
    "df.isnull().sum()/len(df)"
   ]
  },
  {
   "cell_type": "code",
   "execution_count": 10,
   "id": "84bb53db",
   "metadata": {},
   "outputs": [
    {
     "data": {
      "text/plain": [
       "Great                                                                                                                                                                                                                                                                                                                                                                                                                                                                                                                                                                                                                                                                                                                                                                                                                                                                                                                                                                                                                                                                                                                                                                                                                                                                                                                                                                                                                                                                                                                                                                                                                                                                             243\n",
       "excellent!                                                                                                                                                                                                                                                                                                                                                                                                                                                                                                                                                                                                                                                                                                                                                                                                                                                                                                                                                                                                                                                                                                                                                                                                                                                                                                                                                                                                                                                                                                                                                                                                                                                                        184\n",
       "Great book                                                                                                                                                                                                                                                                                                                                                                                                                                                                                                                                                                                                                                                                                                                                                                                                                                                                                                                                                                                                                                                                                                                                                                                                                                                                                                                                                                                                                                                                                                                                                                                                                                                                        183\n",
       "Good                                                                                                                                                                                                                                                                                                                                                                                                                                                                                                                                                                                                                                                                                                                                                                                                                                                                                                                                                                                                                                                                                                                                                                                                                                                                                                                                                                                                                                                                                                                                                                                                                                                                              180\n",
       "great                                                                                                                                                                                                                                                                                                                                                                                                                                                                                                                                                                                                                                                                                                                                                                                                                                                                                                                                                                                                                                                                                                                                                                                                                                                                                                                                                                                                                                                                                                                                                                                                                                                                             178\n",
       "                                                                                                                                                                                                                                                                                                                                                                                                                                                                                                                                                                                                                                                                                                                                                                                                                                                                                                                                                                                                                                                                                                                                                                                                                                                                                                                                                                                                                                                                                                                                                                                                                                                                                 ... \n",
       "If you enjoy jumble puzzles in the paper, you'll enjoy this book.  180 puzzles with a couple of levels of &#34;difficulty&#34;.  The book is the size of a large coloring book and has larger print.  They've used a couple of different fonts - one of them they use I find distracting but fortunately it wasn't used too much. Hours of fun to keep your mind sharp.                                                                                                                                                                                                                                                                                                                                                                                                                                                                                                                                                                                                                                                                                                                                                                                                                                                                                                                                                                                                                                                                                                                                                                                                                                                                                                             1\n",
       "I really enjoyed doing the puzzles, hours of fun and helps keep the mind sharp. The reason I gave it 4 starts instead of 5 is that a lot of the answers in the back were wrong or mixed up. One said the waves were washed away and there were no waves in the photo. One said it had 10 changes but only 9 answers. They'd described changes - for example - change #1 was describing where they were showing change #5. Things like that. But overall a fun book of puzzles.  Personally I need a lot of light on the book as some of the changes are so SMALL.                                                                                                                                                                                                                                                                                                                                                                                                                                                                                                                                                                                                                                                                                                                                                                                                                                                                                                                                                                                                                                                                                                                   1\n",
       "While it does provided a good overview of all the major myths, it would have been helpful if the sources had been cited more often.  Also, a genealogical chart of the gods and some maps would have been nice.                                                                                                                                                                                                                                                                                                                                                                                                                                                                                                                                                                                                                                                                                                                                                                                                                                                                                                                                                                                                                                                                                                                                                                                                                                                                                                                                                                                                                                                                     1\n",
       "The Color of Light by Emilie Richards is a nice read. It's mostly nice. Analiese Wagner is the pastor of a small church in Asheville. She had be a television reporter at one, time, but then she met a man, Isaiah Colburn. The man was a priest, and after spending time with him, and talking about her feelings, he encouraged her to follow her heart. Her heart led her to quitting her very high profile job and becoming pastor in a church with many strong personalities on the board. This did not make her life easy.<br /><br />One day, after speaking at a rally for the poor and homeless in their community, Analiese came upon a homeless family, who had put up a tent on church property. It was well hidden from view, and the family, who seemed to be a people who were good, but very down on their luck, had happened upon an unlocked door. They took advantage of the opportunity to use church owned facilities to clean up and prepare for a night in the cold. The mother was ill, quite ill. Something had to be done. But there was the quarrelsome board to contend with.<br /><br />Making an executive decision, she invited the family to spend the night in an apartment that had recently been vacated by the sexton of the church. Her friend Ethan was supporting her in this decision, but that didn't go far toward fixing it. There was healthcare, school, food, so many things to consider. Had Analiese bitten off more than she could chew? Where could she turn for help? And why was her friend Isaiah not receiving emails at his old address? Why did that matter so much?<br /><br />You need to read further to find out.      1\n",
       "No one can explain what seems to be the serendipity of combat, one is Taken and another is not. Mr. Junger reports it well. The statistics from Stouffer become the foundation of his foremost conclusion -- I.e. that, in the last sense,  men fight for their  brothers and not some broader ideal. And it helps to explain why it is that coming home, for us combat veterans, is so hard to do, and why it is we don't talk--- both because it is sacred and because we have no language to convey it to those who have not been there.                                                                                                                                                                                                                                                                                                                                                                                                                                                                                                                                                                                                                                                                                                                                                                                                                                                                                                                                                                                                                                                                                                                                         1\n",
       "Name: Review Body, Length: 121640, dtype: int64"
      ]
     },
     "execution_count": 10,
     "metadata": {},
     "output_type": "execute_result"
    }
   ],
   "source": [
    "# make everything lower case.\n",
    "df['Review Body Lower'] = df['Review Body'].str.lower()\n",
    "df['Review Body'].value_counts(dropna=False)"
   ]
  },
  {
   "cell_type": "code",
   "execution_count": 11,
   "id": "f81aebaa",
   "metadata": {},
   "outputs": [
    {
     "data": {
      "text/plain": [
       "count     128834\n",
       "unique    121639\n",
       "top        Great\n",
       "freq         243\n",
       "Name: Review Body, dtype: object"
      ]
     },
     "execution_count": 11,
     "metadata": {},
     "output_type": "execute_result"
    }
   ],
   "source": [
    "# Target column to do the sentiment analyses\n",
    "df['Review Body'].describe()"
   ]
  },
  {
   "cell_type": "code",
   "execution_count": 6,
   "id": "a7a6a82f",
   "metadata": {},
   "outputs": [
    {
     "data": {
      "text/html": [
       "<div>\n",
       "<style scoped>\n",
       "    .dataframe tbody tr th:only-of-type {\n",
       "        vertical-align: middle;\n",
       "    }\n",
       "\n",
       "    .dataframe tbody tr th {\n",
       "        vertical-align: top;\n",
       "    }\n",
       "\n",
       "    .dataframe thead th {\n",
       "        text-align: right;\n",
       "    }\n",
       "</style>\n",
       "<table border=\"1\" class=\"dataframe\">\n",
       "  <thead>\n",
       "    <tr style=\"text-align: right;\">\n",
       "      <th></th>\n",
       "      <th>Review Headline</th>\n",
       "      <th>Star Rating</th>\n",
       "    </tr>\n",
       "  </thead>\n",
       "  <tbody>\n",
       "    <tr>\n",
       "      <th>0</th>\n",
       "      <td>Best Book Ever</td>\n",
       "      <td>5.0</td>\n",
       "    </tr>\n",
       "    <tr>\n",
       "      <th>1</th>\n",
       "      <td>researchers from John Hopkins School of Medici...</td>\n",
       "      <td>NaN</td>\n",
       "    </tr>\n",
       "    <tr>\n",
       "      <th>2</th>\n",
       "      <td>Michelle</td>\n",
       "      <td>5.0</td>\n",
       "    </tr>\n",
       "    <tr>\n",
       "      <th>3</th>\n",
       "      <td>Loved the book</td>\n",
       "      <td>5.0</td>\n",
       "    </tr>\n",
       "    <tr>\n",
       "      <th>4</th>\n",
       "      <td>Challenges your assumptions</td>\n",
       "      <td>4.0</td>\n",
       "    </tr>\n",
       "  </tbody>\n",
       "</table>\n",
       "</div>"
      ],
      "text/plain": [
       "                                     Review Headline  Star Rating\n",
       "0                                     Best Book Ever          5.0\n",
       "1  researchers from John Hopkins School of Medici...          NaN\n",
       "2                                           Michelle          5.0\n",
       "3                                     Loved the book          5.0\n",
       "4                        Challenges your assumptions          4.0"
      ]
     },
     "execution_count": 6,
     "metadata": {},
     "output_type": "execute_result"
    }
   ],
   "source": [
    "file = 'https://raw.githubusercontent.com/joshivaibhav/AmazonCustomerReview/master/amazondata.csv'\n",
    "\n",
    "df1 = pd.read_csv(file, usecols=['Review Headline','Star Rating'])\n",
    "df1.head()"
   ]
  },
  {
   "cell_type": "markdown",
   "id": "6e1505da",
   "metadata": {},
   "source": [
    "# Function to clean the data"
   ]
  },
  {
   "cell_type": "code",
   "execution_count": 7,
   "id": "24405770",
   "metadata": {},
   "outputs": [
    {
     "data": {
      "text/plain": [
       "(116298, 2)"
      ]
     },
     "execution_count": 7,
     "metadata": {},
     "output_type": "execute_result"
    }
   ],
   "source": [
    "# drop any rows w/ missing values\n",
    "df1 = df1.dropna()\n",
    "# discover the actual counts\n",
    "df1.shape\n",
    "\n"
   ]
  },
  {
   "cell_type": "code",
   "execution_count": 24,
   "id": "80d5e3f8",
   "metadata": {},
   "outputs": [],
   "source": [
    "df1['sentiment']=0\n",
    "        "
   ]
  },
  {
   "cell_type": "code",
   "execution_count": 27,
   "id": "510094b5",
   "metadata": {},
   "outputs": [
    {
     "name": "stderr",
     "output_type": "stream",
     "text": [
      "/var/folders/xw/ggml5mhd4n7315516lvx2p6c0000gn/T/ipykernel_63775/2061317912.py:1: SettingWithCopyWarning: \n",
      "A value is trying to be set on a copy of a slice from a DataFrame\n",
      "\n",
      "See the caveats in the documentation: https://pandas.pydata.org/pandas-docs/stable/user_guide/indexing.html#returning-a-view-versus-a-copy\n",
      "  df1['sentiment'][df1['Star Rating'] >4] = 1\n"
     ]
    }
   ],
   "source": [
    "df1['sentiment'][df1['Star Rating'] >4] = 1"
   ]
  },
  {
   "cell_type": "code",
   "execution_count": 28,
   "id": "64f1f738",
   "metadata": {},
   "outputs": [
    {
     "data": {
      "text/html": [
       "<div>\n",
       "<style scoped>\n",
       "    .dataframe tbody tr th:only-of-type {\n",
       "        vertical-align: middle;\n",
       "    }\n",
       "\n",
       "    .dataframe tbody tr th {\n",
       "        vertical-align: top;\n",
       "    }\n",
       "\n",
       "    .dataframe thead th {\n",
       "        text-align: right;\n",
       "    }\n",
       "</style>\n",
       "<table border=\"1\" class=\"dataframe\">\n",
       "  <thead>\n",
       "    <tr style=\"text-align: right;\">\n",
       "      <th></th>\n",
       "      <th>Review Headline</th>\n",
       "      <th>Star Rating</th>\n",
       "      <th>sentiment</th>\n",
       "    </tr>\n",
       "  </thead>\n",
       "  <tbody>\n",
       "    <tr>\n",
       "      <th>0</th>\n",
       "      <td>Best Book Ever</td>\n",
       "      <td>5.0</td>\n",
       "      <td>1</td>\n",
       "    </tr>\n",
       "    <tr>\n",
       "      <th>2</th>\n",
       "      <td>Michelle</td>\n",
       "      <td>5.0</td>\n",
       "      <td>1</td>\n",
       "    </tr>\n",
       "    <tr>\n",
       "      <th>3</th>\n",
       "      <td>Loved the book</td>\n",
       "      <td>5.0</td>\n",
       "      <td>1</td>\n",
       "    </tr>\n",
       "    <tr>\n",
       "      <th>4</th>\n",
       "      <td>Challenges your assumptions</td>\n",
       "      <td>4.0</td>\n",
       "      <td>0</td>\n",
       "    </tr>\n",
       "    <tr>\n",
       "      <th>6</th>\n",
       "      <td>Reflections</td>\n",
       "      <td>5.0</td>\n",
       "      <td>1</td>\n",
       "    </tr>\n",
       "    <tr>\n",
       "      <th>...</th>\n",
       "      <td>...</td>\n",
       "      <td>...</td>\n",
       "      <td>...</td>\n",
       "    </tr>\n",
       "    <tr>\n",
       "      <th>128838</th>\n",
       "      <td>Entertaining and Educational</td>\n",
       "      <td>4.0</td>\n",
       "      <td>0</td>\n",
       "    </tr>\n",
       "    <tr>\n",
       "      <th>128839</th>\n",
       "      <td>Interesting Analysis of the First Lady</td>\n",
       "      <td>4.0</td>\n",
       "      <td>0</td>\n",
       "    </tr>\n",
       "    <tr>\n",
       "      <th>128840</th>\n",
       "      <td>Heroic</td>\n",
       "      <td>4.0</td>\n",
       "      <td>0</td>\n",
       "    </tr>\n",
       "    <tr>\n",
       "      <th>128843</th>\n",
       "      <td>So upsetting</td>\n",
       "      <td>2.0</td>\n",
       "      <td>0</td>\n",
       "    </tr>\n",
       "    <tr>\n",
       "      <th>128844</th>\n",
       "      <td>ultimately real and insightful</td>\n",
       "      <td>5.0</td>\n",
       "      <td>1</td>\n",
       "    </tr>\n",
       "  </tbody>\n",
       "</table>\n",
       "<p>116298 rows × 3 columns</p>\n",
       "</div>"
      ],
      "text/plain": [
       "                               Review Headline  Star Rating  sentiment\n",
       "0                               Best Book Ever          5.0          1\n",
       "2                                     Michelle          5.0          1\n",
       "3                               Loved the book          5.0          1\n",
       "4                  Challenges your assumptions          4.0          0\n",
       "6                                  Reflections          5.0          1\n",
       "...                                        ...          ...        ...\n",
       "128838            Entertaining and Educational          4.0          0\n",
       "128839  Interesting Analysis of the First Lady          4.0          0\n",
       "128840                                  Heroic          4.0          0\n",
       "128843                            So upsetting          2.0          0\n",
       "128844          ultimately real and insightful          5.0          1\n",
       "\n",
       "[116298 rows x 3 columns]"
      ]
     },
     "execution_count": 28,
     "metadata": {},
     "output_type": "execute_result"
    }
   ],
   "source": [
    "df1"
   ]
  },
  {
   "cell_type": "code",
   "execution_count": 29,
   "id": "0f3198e6",
   "metadata": {},
   "outputs": [
    {
     "data": {
      "text/plain": [
       "<AxesSubplot:xlabel='sentiment', ylabel='count'>"
      ]
     },
     "execution_count": 29,
     "metadata": {},
     "output_type": "execute_result"
    },
    {
     "data": {
      "image/png": "[encoded data removed]",
      "text/plain": [
       "<Figure size 432x288 with 1 Axes>"
      ]
     },
     "metadata": {
      "needs_background": "light"
     },
     "output_type": "display_data"
    }
   ],
   "source": [
    "sns.countplot(x='sentiment',data=df1,palette='rainbow')"
   ]
  },
  {
   "cell_type": "code",
   "execution_count": 35,
   "id": "4e46076f",
   "metadata": {},
   "outputs": [],
   "source": [
    "from sklearn.feature_extraction.text import CountVectorizer"
   ]
  },
  {
   "cell_type": "code",
   "execution_count": 39,
   "id": "885d0e96",
   "metadata": {},
   "outputs": [],
   "source": [
    "import string"
   ]
  },
  {
   "cell_type": "code",
   "execution_count": 41,
   "id": "9fbdc157",
   "metadata": {},
   "outputs": [
    {
     "data": {
      "text/plain": [
       "['i', 'me', 'my', 'myself', 'we', 'our', 'ours', 'ourselves', 'you', \"you're\"]"
      ]
     },
     "execution_count": 41,
     "metadata": {},
     "output_type": "execute_result"
    }
   ],
   "source": [
    "from nltk.corpus import stopwords\n",
    "stopwords.words('english')[0:10] # Show some stop words"
   ]
  },
  {
   "cell_type": "code",
   "execution_count": 37,
   "id": "e69bf9d1",
   "metadata": {},
   "outputs": [],
   "source": [
    "def text_process(mess):\n",
    "    \"\"\"\n",
    "    Takes in a string of text, then performs the following:\n",
    "    1. Remove all punctuation\n",
    "    2. Remove all stopwords\n",
    "    3. Returns a list of the cleaned text\n",
    "    \"\"\"\n",
    "    # Check characters to see if they are in punctuation\n",
    "    nopunc = [char for char in mess if char not in string.punctuation]\n",
    "\n",
    "    # Join the characters again to form the string.\n",
    "    nopunc = ''.join(nopunc)\n",
    "    \n",
    "    # Now just remove any stopwords\n",
    "    return [word for word in nopunc.split() if word.lower() not in stopwords.words('english')]"
   ]
  },
  {
   "cell_type": "code",
   "execution_count": 42,
   "id": "9eacdc27",
   "metadata": {},
   "outputs": [
    {
     "name": "stdout",
     "output_type": "stream",
     "text": [
      "38360\n"
     ]
    }
   ],
   "source": [
    "# Might take awhile...\n",
    "bow_transformer = CountVectorizer(analyzer=text_process).fit(df1['Review Headline'])\n",
    "\n",
    "# Print total number of vocab words\n",
    "print(len(bow_transformer.vocabulary_))"
   ]
  },
  {
   "cell_type": "code",
   "execution_count": 43,
   "id": "6ed2ef0d",
   "metadata": {},
   "outputs": [
    {
     "name": "stdout",
     "output_type": "stream",
     "text": [
      "Loved the book\n"
     ]
    }
   ],
   "source": [
    "review4 = df1['Review Headline'][3]\n",
    "print(review4)"
   ]
  },
  {
   "cell_type": "code",
   "execution_count": 44,
   "id": "ca24ce50",
   "metadata": {},
   "outputs": [
    {
     "name": "stdout",
     "output_type": "stream",
     "text": [
      "  (0, 11490)\t1\n",
      "  (0, 22809)\t1\n",
      "(1, 38360)\n"
     ]
    }
   ],
   "source": [
    "bow4 = bow_transformer.transform([review4])\n",
    "print(bow4)\n",
    "print(bow4.shape)"
   ]
  },
  {
   "cell_type": "code",
   "execution_count": 47,
   "id": "fcd89733",
   "metadata": {},
   "outputs": [
    {
     "name": "stdout",
     "output_type": "stream",
     "text": [
      "Loved\n",
      "book\n"
     ]
    }
   ],
   "source": [
    "print(bow_transformer.get_feature_names()[11490])\n",
    "print(bow_transformer.get_feature_names()[22809])"
   ]
  },
  {
   "cell_type": "code",
   "execution_count": 48,
   "id": "3c3e7dfb",
   "metadata": {},
   "outputs": [],
   "source": [
    "Review_bow = bow_transformer.transform(df1['Review Headline'])"
   ]
  },
  {
   "cell_type": "code",
   "execution_count": 49,
   "id": "c09e00a0",
   "metadata": {},
   "outputs": [
    {
     "name": "stdout",
     "output_type": "stream",
     "text": [
      "Shape of Sparse Matrix:  (116298, 38360)\n",
      "Amount of Non-Zero occurences:  360454\n"
     ]
    }
   ],
   "source": [
    "print('Shape of Sparse Matrix: ', Review_bow.shape)\n",
    "print('Amount of Non-Zero occurences: ', Review_bow.nnz)"
   ]
  },
  {
   "cell_type": "code",
   "execution_count": 50,
   "id": "fdf7e2ac",
   "metadata": {},
   "outputs": [
    {
     "name": "stdout",
     "output_type": "stream",
     "text": [
      "sparsity: 0\n"
     ]
    }
   ],
   "source": [
    "sparsity = (100.0 * Review_bow .nnz / (Review_bow .shape[0] * Review_bow .shape[1]))\n",
    "print('sparsity: {}'.format(round(sparsity)))"
   ]
  },
  {
   "cell_type": "code",
   "execution_count": 51,
   "id": "b451b2e3",
   "metadata": {},
   "outputs": [
    {
     "name": "stdout",
     "output_type": "stream",
     "text": [
      "  (0, 22809)\t0.4706002883637836\n",
      "  (0, 11490)\t0.8823465127669081\n"
     ]
    }
   ],
   "source": [
    "from sklearn.feature_extraction.text import TfidfTransformer\n",
    "\n",
    "tfidf_transformer = TfidfTransformer().fit(Review_bow)\n",
    "tfidf4 = tfidf_transformer.transform(bow4)\n",
    "print(tfidf4)"
   ]
  },
  {
   "cell_type": "code",
   "execution_count": 53,
   "id": "93be423c",
   "metadata": {},
   "outputs": [
    {
     "name": "stdout",
     "output_type": "stream",
     "text": [
      "3.2892520746196516\n",
      "4.515763300095886\n"
     ]
    }
   ],
   "source": [
    "print(tfidf_transformer.idf_[bow_transformer.vocabulary_['book']])\n",
    "print(tfidf_transformer.idf_[bow_transformer.vocabulary_['great']])"
   ]
  },
  {
   "cell_type": "code",
   "execution_count": 54,
   "id": "1bc103de",
   "metadata": {},
   "outputs": [
    {
     "name": "stdout",
     "output_type": "stream",
     "text": [
      "(116298, 38360)\n"
     ]
    }
   ],
   "source": [
    "review_tfidf = tfidf_transformer.transform(Review_bow )\n",
    "print(review_tfidf.shape)"
   ]
  },
  {
   "cell_type": "code",
   "execution_count": 60,
   "id": "70f9973a",
   "metadata": {},
   "outputs": [],
   "source": [
    "from sklearn.naive_bayes import MultinomialNB\n",
    "detect_model = MultinomialNB().fit(review_tfidf, df1['sentiment'])"
   ]
  },
  {
   "cell_type": "code",
   "execution_count": 61,
   "id": "10a24562",
   "metadata": {},
   "outputs": [
    {
     "name": "stdout",
     "output_type": "stream",
     "text": [
      "predicted: 1\n",
      "expected: 1\n"
     ]
    }
   ],
   "source": [
    "print('predicted:', detect_model.predict(tfidf4)[0])\n",
    "print('expected:', df1['sentiment'][3])"
   ]
  },
  {
   "cell_type": "code",
   "execution_count": 62,
   "id": "86811c07",
   "metadata": {},
   "outputs": [
    {
     "name": "stdout",
     "output_type": "stream",
     "text": [
      "[1 1 1 ... 1 1 1]\n"
     ]
    }
   ],
   "source": [
    "all_predictions = detect_model.predict(review_tfidf)\n",
    "print(all_predictions)"
   ]
  },
  {
   "cell_type": "code",
   "execution_count": 64,
   "id": "2bf1a17a",
   "metadata": {},
   "outputs": [
    {
     "name": "stdout",
     "output_type": "stream",
     "text": [
      "              precision    recall  f1-score   support\n",
      "\n",
      "           0       0.87      0.63      0.73     42594\n",
      "           1       0.82      0.95      0.88     73704\n",
      "\n",
      "    accuracy                           0.83    116298\n",
      "   macro avg       0.84      0.79      0.80    116298\n",
      "weighted avg       0.84      0.83      0.82    116298\n",
      "\n"
     ]
    }
   ],
   "source": [
    "from sklearn.metrics import classification_report\n",
    "print (classification_report(df1['sentiment'], all_predictions))"
   ]
  },
  {
   "cell_type": "code",
   "execution_count": 30,
   "id": "04165f2b",
   "metadata": {},
   "outputs": [],
   "source": [
    "X = df1['Review Headline']\n",
    "y = df1['sentiment']"
   ]
  },
  {
   "cell_type": "code",
   "execution_count": 31,
   "id": "31fa863a",
   "metadata": {},
   "outputs": [],
   "source": [
    "from sklearn.feature_extraction.text import CountVectorizer\n",
    "cv = CountVectorizer()"
   ]
  },
  {
   "cell_type": "code",
   "execution_count": 32,
   "id": "fb1f1eb6",
   "metadata": {},
   "outputs": [],
   "source": [
    "X = cv.fit_transform(X)"
   ]
  },
  {
   "cell_type": "code",
   "execution_count": 33,
   "id": "f0be25a3",
   "metadata": {},
   "outputs": [],
   "source": [
    "from sklearn.model_selection import train_test_split"
   ]
  },
  {
   "cell_type": "code",
   "execution_count": 66,
   "id": "6c5c6387",
   "metadata": {},
   "outputs": [
    {
     "name": "stdout",
     "output_type": "stream",
     "text": [
      "93038 23260 116298\n"
     ]
    }
   ],
   "source": [
    "\n",
    "\n",
    "rvw_train, rvw_test, sent_train, sent_test = \\\n",
    "train_test_split(df1['Review Headline'], df1['sentiment'], test_size=0.2)\n",
    "\n",
    "print(len(rvw_train), len(rvw_test), len(rvw_train) + len(rvw_test))"
   ]
  },
  {
   "cell_type": "code",
   "execution_count": 65,
   "id": "7ce4b9c9",
   "metadata": {},
   "outputs": [],
   "source": [
    "from sklearn.pipeline import Pipeline\n",
    "\n",
    "pipeline = Pipeline([\n",
    "    ('bow', CountVectorizer(analyzer=text_process)),  # strings to token integer counts\n",
    "    ('tfidf', TfidfTransformer()),  # integer counts to weighted TF-IDF scores\n",
    "    ('classifier', MultinomialNB()),  # train on TF-IDF vectors w/ Naive Bayes classifier\n",
    "])"
   ]
  },
  {
   "cell_type": "code",
   "execution_count": 67,
   "id": "b21e0156",
   "metadata": {},
   "outputs": [
    {
     "data": {
      "text/plain": [
       "Pipeline(steps=[('bow',\n",
       "                 CountVectorizer(analyzer=<function text_process at 0x7f9760b37ca0>)),\n",
       "                ('tfidf', TfidfTransformer()),\n",
       "                ('classifier', MultinomialNB())])"
      ]
     },
     "execution_count": 67,
     "metadata": {},
     "output_type": "execute_result"
    }
   ],
   "source": [
    "pipeline.fit(rvw_train,sent_train)"
   ]
  },
  {
   "cell_type": "code",
   "execution_count": 68,
   "id": "f1130aec",
   "metadata": {},
   "outputs": [],
   "source": [
    "predictions = pipeline.predict(rvw_test)"
   ]
  },
  {
   "cell_type": "code",
   "execution_count": 69,
   "id": "4c6f6b86",
   "metadata": {},
   "outputs": [
    {
     "name": "stdout",
     "output_type": "stream",
     "text": [
      "              precision    recall  f1-score   support\n",
      "\n",
      "           0       0.50      0.76      0.60      5557\n",
      "           1       0.91      0.76      0.83     17703\n",
      "\n",
      "    accuracy                           0.76     23260\n",
      "   macro avg       0.71      0.76      0.72     23260\n",
      "weighted avg       0.81      0.76      0.78     23260\n",
      "\n"
     ]
    }
   ],
   "source": [
    "print(classification_report(predictions,sent_test))"
   ]
  },
  {
   "cell_type": "code",
   "execution_count": null,
   "id": "7d9c1f91",
   "metadata": {},
   "outputs": [],
   "source": []
  }
 ],
 "metadata": {
  "kernelspec": {
   "display_name": "Python 3 (ipykernel)",
   "language": "python",
   "name": "python3"
  },
  "language_info": {
   "codemirror_mode": {
    "name": "ipython",
    "version": 3
   },
   "file_extension": ".py",
   "mimetype": "text/x-python",
   "name": "python",
   "nbconvert_exporter": "python",
   "pygments_lexer": "ipython3",
   "version": "3.8.12"
  }
 },
 "nbformat": 4,
 "nbformat_minor": 5
}
